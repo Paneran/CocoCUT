{
  "cells": [
    {
      "cell_type": "markdown",
      "metadata": {
        "id": "Sh4HVWjZVxSg"
      },
      "source": [
        "# Imports and Data"
      ]
    },
    {
      "cell_type": "code",
      "execution_count": 1,
      "metadata": {
        "id": "yPB4jtziVJbd"
      },
      "outputs": [],
      "source": [
        "!pip install -q torchvision\n",
        "!pip install -q pytorch_lightning\n",
        "!pip install -q torchmetrics"
      ]
    },
    {
      "cell_type": "code",
      "execution_count": 3,
      "metadata": {
        "colab": {
          "base_uri": "https://localhost:8080/"
        },
        "id": "GNOUwiuMGWaL",
        "outputId": "a4f0c93f-1486-4752-c0ec-c02edf002c83"
      },
      "outputs": [
        {
          "name": "stdout",
          "output_type": "stream",
          "text": [
            "The autoreload extension is already loaded. To reload it, use:\n",
            "  %reload_ext autoreload\n"
          ]
        }
      ],
      "source": [
        "import numpy as np\n",
        "import random\n",
        "import os\n",
        "from PIL import Image as im\n",
        "import torch\n",
        "import torch.nn as nn\n",
        "from torch.optim import Adam\n",
        "from torchmetrics import Accuracy\n",
        "from torchvision import transforms\n",
        "from torch.utils.data import TensorDataset, DataLoader, random_split\n",
        "from pytorch_lightning.callbacks import ModelCheckpoint\n",
        "from pytorch_lightning.callbacks.early_stopping import EarlyStopping\n",
        "import pytorch_lightning as pl\n",
        "\n",
        "%load_ext autoreload\n",
        "%autoreload 2"
      ]
    },
    {
      "cell_type": "code",
      "execution_count": 10,
      "metadata": {
        "id": "EvjjlhySY4Iw"
      },
      "outputs": [],
      "source": [
        "def set_seed(worker_ID = 0):\n",
        "  # set seed.\n",
        "  worker_seed = (torch.initial_seed() + worker_ID) % 2**32\n",
        "  np.random.seed(worker_seed)\n",
        "  random.seed(worker_seed)\n",
        "\n",
        "def load_data(data_dir):\n",
        "  # load data\n",
        "  files = os.listdir(data_dir)\n",
        "  num_data = len(files)\n",
        "\n",
        "  # initialize data array by finding dimensions\n",
        "  # MUST DOWNSAMPLE ARRAY otherwise too much info\n",
        "  image_PATH = data_dir + '/' + files[0]\n",
        "  img = im.open(image_PATH)\n",
        "  img_arr = np.asarray(img)\n",
        "  sz = len(np.ravel(img_arr))\n",
        "  X = np.zeros((num_data, sz))\n",
        "\n",
        "  # store data in array\n",
        "  for i in np.arange(num_data):\n",
        "      image_PATH = data_dir + '/' + files[i]\n",
        "      img = im.open(image_PATH)\n",
        "      img_arr = np.asarray(img)\n",
        "      X[i] = np.ravel(img_arr)\n",
        "\n"
      ]
    },
    {
      "cell_type": "code",
      "execution_count": 5,
      "metadata": {},
      "outputs": [],
      "source": [
        "image_dir_PATH = 'D:/DATASET-1/Dataset-1_high_resolution'\n"
      ]
    },
    {
      "cell_type": "code",
      "execution_count": 16,
      "metadata": {
        "colab": {
          "base_uri": "https://localhost:8080/",
          "height": 339
        },
        "id": "PnPeBv-pui-M",
        "outputId": "ae296597-21d9-4524-80ee-df8b44614df0"
      },
      "outputs": [
        {
          "name": "stdout",
          "output_type": "stream",
          "text": [
            "(20, 53747712)\n"
          ]
        }
      ],
      "source": [
        "files = os.listdir(image_dir_PATH)\n",
        "num_data = 20 #len(data)\n",
        "\n",
        "# initialize data array by finding dimensions\n",
        "image_PATH = image_dir_PATH + '/' + files[0]\n",
        "img = im.open(image_PATH)\n",
        "img_arr = np.asarray(img)\n",
        "sz = len(np.ravel(img_arr))\n",
        "X = np.zeros((num_data, sz))\n",
        "\n",
        "# store data in array\n",
        "for i in np.arange(num_data):\n",
        "    image_PATH = image_dir_PATH + '/' + files[i]\n",
        "    img = im.open(image_PATH)\n",
        "    img_arr = np.asarray(img)\n",
        "    X[i] = np.ravel(img_arr)\n"
      ]
    },
    {
      "cell_type": "markdown",
      "metadata": {
        "id": "CdHbGWU4uiTs"
      },
      "source": []
    }
  ],
  "metadata": {
    "colab": {
      "provenance": []
    },
    "kernelspec": {
      "display_name": "Python 3",
      "name": "python3"
    },
    "language_info": {
      "codemirror_mode": {
        "name": "ipython",
        "version": 3
      },
      "file_extension": ".py",
      "mimetype": "text/x-python",
      "name": "python",
      "nbconvert_exporter": "python",
      "pygments_lexer": "ipython3",
      "version": "3.10.11"
    }
  },
  "nbformat": 4,
  "nbformat_minor": 0
}
